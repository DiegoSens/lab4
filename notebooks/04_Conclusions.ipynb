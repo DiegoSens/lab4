{
 "cells": [
  {
   "cell_type": "markdown",
   "metadata": {},
   "source": [
    "# 04_Conclusions\n",
    "##### Authors: Diego Senso González, Luis Vaciero\n",
    "##### 15 january 2021\n",
    "##### Module: Machine Learning - Master's Degree in Data Science for Finance"
   ]
  },
  {
   "cell_type": "markdown",
   "metadata": {},
   "source": [
    "To conclude, it should be said that in order to create the visualization with graphs it has been necessary to spend a significant amount of time obtaining the data in the desired format, exploring it and processing it to obtain new data sets to play with when performing the visualization. Finally, we have been able to study the connections between the bike paths from various perspectives."
   ]
  },
  {
   "cell_type": "markdown",
   "metadata": {},
   "source": [
    "Through the EDA, we have been able to analyze the data and observe the most repeated trips between the different zones, how much of them began in one and ended in another, or the reduced use this service had during the months of confinement of the population due to the Covid-19 pandemic. All the instructions and their detailed explanation can be found in that document. Then, in the data processing notebook we created new datasets with the intention of having several visualization options, since from the first moment we observed the fact that with such an amount of data we had the risk of not obtaining good visualizations."
   ]
  },
  {
   "cell_type": "markdown",
   "metadata": {},
   "source": [
    "As for the visualization, it is obvious that having a large number of nodes, the results are not very explanatory. That is why it was decided to look for other ways of visualizing, grouping the data by neighborhoods or districts instead of streets. Given our data, the resulting network nodes have a large number of connections, and they all seem to be connected to each other. We think that this may be due to the fact that there are trips between all or almost all points of the city of Madrid with the bikes of this company. If we had worked with data of a different nature, we would probably have had nodes that would not connect with others. "
   ]
  },
  {
   "cell_type": "markdown",
   "metadata": {},
   "source": [
    "In the future, we could play even more with the visualization options, looking for new libraries and methods to draw networks of different kinds. In addition, we could study the posibility of building a map of the city of Madrid, and try to connect the different bycicle stations using networks while making the results visually explanatory."
   ]
  }
 ],
 "metadata": {
  "kernelspec": {
   "display_name": "gradiente",
   "language": "python",
   "name": "gradiente"
  },
  "language_info": {
   "codemirror_mode": {
    "name": "ipython",
    "version": 3
   },
   "file_extension": ".py",
   "mimetype": "text/x-python",
   "name": "python",
   "nbconvert_exporter": "python",
   "pygments_lexer": "ipython3",
   "version": "3.8.5"
  },
  "toc": {
   "base_numbering": 1,
   "nav_menu": {},
   "number_sections": false,
   "sideBar": true,
   "skip_h1_title": false,
   "title_cell": "Table of Contents",
   "title_sidebar": "Contents",
   "toc_cell": false,
   "toc_position": {},
   "toc_section_display": true,
   "toc_window_display": true
  }
 },
 "nbformat": 4,
 "nbformat_minor": 4
}
