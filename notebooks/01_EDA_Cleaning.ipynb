{
 "cells": [
  {
   "cell_type": "markdown",
   "metadata": {},
   "source": [
    "# 01_EDA_Cleaning\n",
    "##### Authors: Diego Senso González, Luis Vaciero\n",
    "##### 15 january 2021\n",
    "##### Module: Machine Learning - Master's Degree in Data Science for Finance"
   ]
  },
  {
   "cell_type": "markdown",
   "metadata": {},
   "source": [
    "## Objective\n",
    "The purpose of this document is to carry out an EDA on the data available on bicycle routes from the company Bicimad during 2020."
   ]
  },
  {
   "cell_type": "markdown",
   "metadata": {},
   "source": [
    "## Explanation of the dataset and dictionary of variables\n",
    "\n",
    "The dataset has the following variables:\n",
    "\n",
    "- _id: Movement identifier.\n",
    "- user_day_code: User code. For the same date, all the movements of the same user, will have the same code, in order to be able to carry out studies statistics of daily user trends.\n",
    "- idplug_base: Number of the base where the bicycle is hooked.\n",
    "- user_type: Number that indicates the type of user that has made the movement. possible values are: 0: User type could not be determined, 1: Annual user (annual pass holder), 2: Occasional user, 3: Company worker.\n",
    "- idunplug_base: Number of the base from which the bicycle is unplugged.\n",
    "- travel_time: Total time in seconds, between the release and the hooking of the bicycle.\n",
    "- idunplug_station: Number of the station from which the bike is unplugged.\n",
    "- ageRange: Number indicating the age range of the user who has performed the movement. Its possible values are: 0: The age range of the user could not be determined, 1: The user is between 0 and 16 years old, 2: The user is between 17 and 18 years old, 3: The user is between 19 and 26 years old, 4: The user is between 27 and 40 years old, 5: The user is between 41 and 65 years old, 6: The user is 66 years or older.\n",
    "- idplug_station: Number of the station where the bicycle is hooked.\n",
    "- unplug_hourTime: Time zone where the bicycle is unplugged. For anonymity reasons, the time of the beginning of the movement is given, without the information in minutes and seconds. All movements initiated during the same time, they will have the same starting data.\n",
    "- zip_code: Text indicating the zip code of the user who made the move."
   ]
  },
  {
   "cell_type": "markdown",
   "metadata": {},
   "source": [
    "## Libraries\n",
    "Firstly, we import the requested libraries for the EDA."
   ]
  },
  {
   "cell_type": "code",
   "execution_count": 1,
   "metadata": {},
   "outputs": [],
   "source": [
    "import pandas as pd\n",
    "import numpy as np\n",
    "import matplotlib.pyplot as plt\n",
    "import seaborn as sns\n",
    "%matplotlib inline"
   ]
  },
  {
   "cell_type": "markdown",
   "metadata": {},
   "source": [
    "## Loading the data"
   ]
  },
  {
   "cell_type": "markdown",
   "metadata": {},
   "source": [
    "We load all data, which corresponds to all travel records during the year 2020."
   ]
  },
  {
   "cell_type": "code",
   "execution_count": 2,
   "metadata": {},
   "outputs": [
    {
     "name": "stderr",
     "output_type": "stream",
     "text": [
      "C:\\Users\\diego\\anaconda3\\envs\\eda_env\\lib\\site-packages\\IPython\\core\\interactiveshell.py:3145: DtypeWarning: Columns (10) have mixed types.Specify dtype option on import or set low_memory=False.\n",
      "  has_raised = await self.run_ast_nodes(code_ast.body, cell_name,\n"
     ]
    }
   ],
   "source": [
    "bicimad1 = pd.read_csv('../data/202001_movements.csv', delimiter = ';')\n",
    "bicimad2 = pd.read_csv('../data/202002_movements.csv', delimiter = ';')\n",
    "bicimad3 = pd.read_csv('../data/202003_movements.csv', delimiter = ';')\n",
    "bicimad4 = pd.read_csv('../data/202004_movements.csv', delimiter = ';')\n",
    "bicimad5 = pd.read_csv('../data/202005_movements.csv', delimiter = ';')\n",
    "bicimad6 = pd.read_csv('../data/202006_movements.csv', delimiter = ';')\n",
    "bicimad7 = pd.read_csv('../data/202007_movements.csv', delimiter = ';')\n",
    "bicimad8 = pd.read_csv('../data/202008_movements.csv', delimiter = ';')\n",
    "bicimad9 = pd.read_csv('../data/202009_movements.csv', delimiter = ';')\n",
    "bicimad10 = pd.read_csv('../data/202010_movements.csv', delimiter = ';')\n",
    "bicimad11 = pd.read_csv('../data/202011_movements.csv', delimiter = ';')\n",
    "bicimad12 = pd.read_csv('../data/202012_movements.csv', delimiter = ';')\n",
    "stations = pd.read_csv('../data/xn--Bici+Transporte_pblico-xkc.csv', delimiter = ',')"
   ]
  },
  {
   "cell_type": "markdown",
   "metadata": {},
   "source": [
    "We observe the first rows of both datasets."
   ]
  },
  {
   "cell_type": "code",
   "execution_count": 3,
   "metadata": {},
   "outputs": [
    {
     "data": {
      "text/html": [
       "<div>\n",
       "<style scoped>\n",
       "    .dataframe tbody tr th:only-of-type {\n",
       "        vertical-align: middle;\n",
       "    }\n",
       "\n",
       "    .dataframe tbody tr th {\n",
       "        vertical-align: top;\n",
       "    }\n",
       "\n",
       "    .dataframe thead th {\n",
       "        text-align: right;\n",
       "    }\n",
       "</style>\n",
       "<table border=\"1\" class=\"dataframe\">\n",
       "  <thead>\n",
       "    <tr style=\"text-align: right;\">\n",
       "      <th></th>\n",
       "      <th>_id</th>\n",
       "      <th>user_day_code</th>\n",
       "      <th>idplug_base</th>\n",
       "      <th>user_type</th>\n",
       "      <th>idunplug_base</th>\n",
       "      <th>travel_time</th>\n",
       "      <th>idunplug_station</th>\n",
       "      <th>ageRange</th>\n",
       "      <th>idplug_station</th>\n",
       "      <th>unplug_hourTime</th>\n",
       "      <th>zip_code</th>\n",
       "    </tr>\n",
       "  </thead>\n",
       "  <tbody>\n",
       "    <tr>\n",
       "      <th>0</th>\n",
       "      <td>5eeb03e42ea8f656fc95f2a4</td>\n",
       "      <td>c87385356e6eb4b9854a2e64f719017d1023e3de201abb...</td>\n",
       "      <td>1</td>\n",
       "      <td>1</td>\n",
       "      <td>21</td>\n",
       "      <td>210</td>\n",
       "      <td>87</td>\n",
       "      <td>2</td>\n",
       "      <td>78</td>\n",
       "      <td>2020-01-01T00:00:00Z</td>\n",
       "      <td>28007</td>\n",
       "    </tr>\n",
       "    <tr>\n",
       "      <th>1</th>\n",
       "      <td>5eeb03e42ea8f656fc95f2a7</td>\n",
       "      <td>35190181c1ada5deae3e8d51d05aee4090267969a20975...</td>\n",
       "      <td>1</td>\n",
       "      <td>1</td>\n",
       "      <td>21</td>\n",
       "      <td>401</td>\n",
       "      <td>58</td>\n",
       "      <td>4</td>\n",
       "      <td>168</td>\n",
       "      <td>2020-01-01T00:00:00Z</td>\n",
       "      <td>28004</td>\n",
       "    </tr>\n",
       "    <tr>\n",
       "      <th>2</th>\n",
       "      <td>5eeb03e42ea8f656fc95f2aa</td>\n",
       "      <td>f77e4af707dfc3753aea3a3964923f256ef9c0be141399...</td>\n",
       "      <td>19</td>\n",
       "      <td>1</td>\n",
       "      <td>23</td>\n",
       "      <td>473</td>\n",
       "      <td>129</td>\n",
       "      <td>4</td>\n",
       "      <td>82</td>\n",
       "      <td>2020-01-01T00:00:00Z</td>\n",
       "      <td>28045</td>\n",
       "    </tr>\n",
       "    <tr>\n",
       "      <th>3</th>\n",
       "      <td>5eeb03e42ea8f656fc95f2ad</td>\n",
       "      <td>b7ff183e57cd412f698349540a4c729d0e4e396f4fc586...</td>\n",
       "      <td>1</td>\n",
       "      <td>1</td>\n",
       "      <td>19</td>\n",
       "      <td>285</td>\n",
       "      <td>208</td>\n",
       "      <td>4</td>\n",
       "      <td>8</td>\n",
       "      <td>2020-01-01T00:00:00Z</td>\n",
       "      <td>28004</td>\n",
       "    </tr>\n",
       "    <tr>\n",
       "      <th>4</th>\n",
       "      <td>5eeb03e42ea8f656fc95f2b1</td>\n",
       "      <td>f272ac2e59e493866254c364c86253edd7fae80ff4706f...</td>\n",
       "      <td>12</td>\n",
       "      <td>1</td>\n",
       "      <td>8</td>\n",
       "      <td>436</td>\n",
       "      <td>9</td>\n",
       "      <td>4</td>\n",
       "      <td>166</td>\n",
       "      <td>2020-01-01T00:00:00Z</td>\n",
       "      <td>28020</td>\n",
       "    </tr>\n",
       "  </tbody>\n",
       "</table>\n",
       "</div>"
      ],
      "text/plain": [
       "                        _id  \\\n",
       "0  5eeb03e42ea8f656fc95f2a4   \n",
       "1  5eeb03e42ea8f656fc95f2a7   \n",
       "2  5eeb03e42ea8f656fc95f2aa   \n",
       "3  5eeb03e42ea8f656fc95f2ad   \n",
       "4  5eeb03e42ea8f656fc95f2b1   \n",
       "\n",
       "                                       user_day_code  idplug_base  user_type  \\\n",
       "0  c87385356e6eb4b9854a2e64f719017d1023e3de201abb...            1          1   \n",
       "1  35190181c1ada5deae3e8d51d05aee4090267969a20975...            1          1   \n",
       "2  f77e4af707dfc3753aea3a3964923f256ef9c0be141399...           19          1   \n",
       "3  b7ff183e57cd412f698349540a4c729d0e4e396f4fc586...            1          1   \n",
       "4  f272ac2e59e493866254c364c86253edd7fae80ff4706f...           12          1   \n",
       "\n",
       "   idunplug_base  travel_time  idunplug_station  ageRange  idplug_station  \\\n",
       "0             21          210                87         2              78   \n",
       "1             21          401                58         4             168   \n",
       "2             23          473               129         4              82   \n",
       "3             19          285               208         4               8   \n",
       "4              8          436                 9         4             166   \n",
       "\n",
       "        unplug_hourTime zip_code  \n",
       "0  2020-01-01T00:00:00Z    28007  \n",
       "1  2020-01-01T00:00:00Z    28004  \n",
       "2  2020-01-01T00:00:00Z    28045  \n",
       "3  2020-01-01T00:00:00Z    28004  \n",
       "4  2020-01-01T00:00:00Z    28020  "
      ]
     },
     "execution_count": 3,
     "metadata": {},
     "output_type": "execute_result"
    }
   ],
   "source": [
    "bicimad1.head(5)"
   ]
  },
  {
   "cell_type": "code",
   "execution_count": 4,
   "metadata": {},
   "outputs": [
    {
     "data": {
      "text/html": [
       "<div>\n",
       "<style scoped>\n",
       "    .dataframe tbody tr th:only-of-type {\n",
       "        vertical-align: middle;\n",
       "    }\n",
       "\n",
       "    .dataframe tbody tr th {\n",
       "        vertical-align: top;\n",
       "    }\n",
       "\n",
       "    .dataframe thead th {\n",
       "        text-align: right;\n",
       "    }\n",
       "</style>\n",
       "<table border=\"1\" class=\"dataframe\">\n",
       "  <thead>\n",
       "    <tr style=\"text-align: right;\">\n",
       "      <th></th>\n",
       "      <th>X</th>\n",
       "      <th>Y</th>\n",
       "      <th>FID</th>\n",
       "      <th>Estación</th>\n",
       "      <th>Gis_X</th>\n",
       "      <th>Gis_Y</th>\n",
       "      <th>Distrito</th>\n",
       "      <th>Barrio</th>\n",
       "      <th>Calle</th>\n",
       "      <th>Nº</th>\n",
       "      <th>Anclajes</th>\n",
       "      <th>Capacidad</th>\n",
       "      <th>TipoAnclaje</th>\n",
       "      <th>CPROV</th>\n",
       "      <th>CMUN</th>\n",
       "      <th>CPOSTAL</th>\n",
       "    </tr>\n",
       "  </thead>\n",
       "  <tbody>\n",
       "    <tr>\n",
       "      <th>0</th>\n",
       "      <td>-3.701305</td>\n",
       "      <td>40.418893</td>\n",
       "      <td>1</td>\n",
       "      <td>001a</td>\n",
       "      <td>440503.99</td>\n",
       "      <td>4474488.02</td>\n",
       "      <td>01  CENTRO</td>\n",
       "      <td>01-06 SOL</td>\n",
       "      <td>PUERTA DEL SOL, PLAZA, DE LA</td>\n",
       "      <td>1 B</td>\n",
       "      <td>24</td>\n",
       "      <td>NaN</td>\n",
       "      <td>NaN</td>\n",
       "      <td>28</td>\n",
       "      <td>79</td>\n",
       "      <td>28013</td>\n",
       "    </tr>\n",
       "    <tr>\n",
       "      <th>1</th>\n",
       "      <td>-3.701192</td>\n",
       "      <td>40.418955</td>\n",
       "      <td>2</td>\n",
       "      <td>001b</td>\n",
       "      <td>440513.65</td>\n",
       "      <td>4474494.88</td>\n",
       "      <td>01  CENTRO</td>\n",
       "      <td>01-06 SOL</td>\n",
       "      <td>ALCALA, CALLE, DE</td>\n",
       "      <td>1</td>\n",
       "      <td>24</td>\n",
       "      <td>NaN</td>\n",
       "      <td>NaN</td>\n",
       "      <td>28</td>\n",
       "      <td>79</td>\n",
       "      <td>28013</td>\n",
       "    </tr>\n",
       "    <tr>\n",
       "      <th>2</th>\n",
       "      <td>-3.704403</td>\n",
       "      <td>40.422457</td>\n",
       "      <td>3</td>\n",
       "      <td>2</td>\n",
       "      <td>440244.27</td>\n",
       "      <td>4474885.71</td>\n",
       "      <td>01  CENTRO</td>\n",
       "      <td>01-05 UNIVERSIDAD</td>\n",
       "      <td>MIGUEL MOYA, CALLE, DE</td>\n",
       "      <td>1</td>\n",
       "      <td>27</td>\n",
       "      <td>NaN</td>\n",
       "      <td>NaN</td>\n",
       "      <td>28</td>\n",
       "      <td>79</td>\n",
       "      <td>28004</td>\n",
       "    </tr>\n",
       "  </tbody>\n",
       "</table>\n",
       "</div>"
      ],
      "text/plain": [
       "          X          Y  FID Estación      Gis_X       Gis_Y    Distrito  \\\n",
       "0 -3.701305  40.418893    1     001a  440503.99  4474488.02  01  CENTRO   \n",
       "1 -3.701192  40.418955    2     001b  440513.65  4474494.88  01  CENTRO   \n",
       "2 -3.704403  40.422457    3        2  440244.27  4474885.71  01  CENTRO   \n",
       "\n",
       "              Barrio                         Calle   Nº  Anclajes  Capacidad  \\\n",
       "0          01-06 SOL  PUERTA DEL SOL, PLAZA, DE LA  1 B        24        NaN   \n",
       "1          01-06 SOL             ALCALA, CALLE, DE    1        24        NaN   \n",
       "2  01-05 UNIVERSIDAD        MIGUEL MOYA, CALLE, DE    1        27        NaN   \n",
       "\n",
       "   TipoAnclaje  CPROV  CMUN  CPOSTAL  \n",
       "0          NaN     28    79    28013  \n",
       "1          NaN     28    79    28013  \n",
       "2          NaN     28    79    28004  "
      ]
     },
     "execution_count": 4,
     "metadata": {},
     "output_type": "execute_result"
    }
   ],
   "source": [
    "stations.head(3)"
   ]
  },
  {
   "cell_type": "markdown",
   "metadata": {},
   "source": [
    "We are interested in knowing in which months there were more or less trips, so with the len function we observe it."
   ]
  },
  {
   "cell_type": "code",
   "execution_count": 5,
   "metadata": {},
   "outputs": [],
   "source": [
    "jan = len(bicimad1)\n",
    "feb = len(bicimad2)\n",
    "mar = len(bicimad3)\n",
    "apr = len(bicimad4)\n",
    "may = len(bicimad5)\n",
    "jun = len(bicimad6)\n",
    "jul = len(bicimad7)\n",
    "aug = len(bicimad8)\n",
    "sep = len(bicimad9)\n",
    "octo = len(bicimad10)\n",
    "nov = len(bicimad11)\n",
    "dic = len(bicimad12)"
   ]
  },
  {
   "cell_type": "code",
   "execution_count": 6,
   "metadata": {},
   "outputs": [
    {
     "data": {
      "image/png": "[encoded data removed]",
      "text/plain": [
       "<Figure size 432x288 with 1 Axes>"
      ]
     },
     "metadata": {
      "needs_background": "light"
     },
     "output_type": "display_data"
    }
   ],
   "source": [
    "df = pd.DataFrame({'months':['jan', 'feb', 'mar', 'apr', 'may', 'jun', 'jul', 'aug', 'sep', 'octo', 'nov', 'dic'], 'number_of_trips':[jan, feb, mar, apr, may, jun, jul, aug, sep, octo, nov, dic]})\n",
    "ax = df.plot.bar(x='months', y='number_of_trips', rot=0 )"
   ]
  },
  {
   "cell_type": "markdown",
   "metadata": {},
   "source": [
    "As we can see, the months that clearly had the greatest number of trips were September, July and October in this order. In contrast, the month that clearly had the least number of trips was April, followed by March. Here, the effects of the confinement caused by the Covid-19 pandemic can be clearly seen."
   ]
  },
  {
   "cell_type": "markdown",
   "metadata": {},
   "source": [
    "## Data Cleaning and Data Processing"
   ]
  },
  {
   "cell_type": "markdown",
   "metadata": {},
   "source": [
    "We proceed to concatenate the datasets, in order to carry out the EDA on the total of the 2020 data."
   ]
  },
  {
   "cell_type": "code",
   "execution_count": 7,
   "metadata": {},
   "outputs": [],
   "source": [
    "bicimad = pd.concat([bicimad1, bicimad2, bicimad3, bicimad4, bicimad5, bicimad6, bicimad7, bicimad8, bicimad9, bicimad10, bicimad11, bicimad12])"
   ]
  },
  {
   "cell_type": "markdown",
   "metadata": {},
   "source": [
    "Then, with the merge function we join the dataset with the paths with a dataset that includes the names of the stations."
   ]
  },
  {
   "cell_type": "code",
   "execution_count": 8,
   "metadata": {},
   "outputs": [],
   "source": [
    "bicimad = pd.merge(bicimad, stations, left_on= 'idunplug_station', right_on = 'FID')\n",
    "bicimad = pd.merge(bicimad, stations, left_on= 'idplug_station', right_on = 'FID')"
   ]
  },
  {
   "cell_type": "markdown",
   "metadata": {},
   "source": [
    "We select the variables that interest us for further study. Thus, we eliminate unnecessary variables and those that are repeated after applying the merge function."
   ]
  },
  {
   "cell_type": "code",
   "execution_count": 9,
   "metadata": {},
   "outputs": [],
   "source": [
    "bicimad = bicimad.loc[:,['user_type', 'travel_time', 'idunplug_station', 'ageRange', 'idplug_station', 'unplug_hourTime', 'Distrito_x', 'Barrio_x', 'Calle_x', 'Distrito_y', 'Barrio_y', 'Calle_y']]"
   ]
  },
  {
   "cell_type": "markdown",
   "metadata": {},
   "source": [
    "At this moment, we have the date and time of each trip in the same column. We proceed to separate both data and place them in two different columns, called 'date' and 'hour_time'."
   ]
  },
  {
   "cell_type": "code",
   "execution_count": 10,
   "metadata": {},
   "outputs": [],
   "source": [
    "date_and_time = bicimad['unplug_hourTime'].str.split('T', expand = True)"
   ]
  },
  {
   "cell_type": "code",
   "execution_count": 11,
   "metadata": {},
   "outputs": [],
   "source": [
    "bicimad['date'] = date_and_time[0]\n",
    "bicimad['hour_time'] = date_and_time[1]"
   ]
  },
  {
   "cell_type": "markdown",
   "metadata": {},
   "source": [
    "We remove a remaining character from the column containing the time. After this step, we will have both values separated and clean."
   ]
  },
  {
   "cell_type": "code",
   "execution_count": 12,
   "metadata": {},
   "outputs": [],
   "source": [
    "bicimad['hour_time'] = bicimad['hour_time'].str.split('Z', expand = True)"
   ]
  },
  {
   "cell_type": "markdown",
   "metadata": {},
   "source": [
    "We remove the initial column."
   ]
  },
  {
   "cell_type": "code",
   "execution_count": 13,
   "metadata": {},
   "outputs": [],
   "source": [
    "bicimad.drop(['unplug_hourTime'], axis = 'columns', inplace = True)"
   ]
  },
  {
   "cell_type": "markdown",
   "metadata": {},
   "source": [
    "We renamed some of the columns created, in order to clarify their content."
   ]
  },
  {
   "cell_type": "code",
   "execution_count": 14,
   "metadata": {},
   "outputs": [],
   "source": [
    "bicimad.rename(columns = {'Calle_x':'origin', 'Calle_y':'destination', \n",
    "                          'Barrio_x':'neighbourhood_origin', 'Barrio_y':'neighbourhood_dest',\n",
    "                          'Distrito_x':'district_origin', 'Distrito_y':'district_dest'}, inplace = True)"
   ]
  },
  {
   "cell_type": "markdown",
   "metadata": {},
   "source": [
    "## EDA \n",
    "### First exploration\n",
    "As a first step, we choose to see the shape and size of the dataset to get a clear idea about the dimensions of the data which we are going to study."
   ]
  },
  {
   "cell_type": "code",
   "execution_count": 15,
   "metadata": {},
   "outputs": [
    {
     "data": {
      "text/plain": [
       "(2056524, 13)"
      ]
     },
     "execution_count": 15,
     "metadata": {},
     "output_type": "execute_result"
    }
   ],
   "source": [
    "bicimad.shape"
   ]
  },
  {
   "cell_type": "code",
   "execution_count": 16,
   "metadata": {},
   "outputs": [
    {
     "data": {
      "text/plain": [
       "26734812"
      ]
     },
     "execution_count": 16,
     "metadata": {},
     "output_type": "execute_result"
    }
   ],
   "source": [
    "bicimad.size"
   ]
  },
  {
   "cell_type": "markdown",
   "metadata": {},
   "source": [
    "In addition, we observe the first and last rows."
   ]
  },
  {
   "cell_type": "code",
   "execution_count": 17,
   "metadata": {},
   "outputs": [
    {
     "data": {
      "text/html": [
       "<div>\n",
       "<style scoped>\n",
       "    .dataframe tbody tr th:only-of-type {\n",
       "        vertical-align: middle;\n",
       "    }\n",
       "\n",
       "    .dataframe tbody tr th {\n",
       "        vertical-align: top;\n",
       "    }\n",
       "\n",
       "    .dataframe thead th {\n",
       "        text-align: right;\n",
       "    }\n",
       "</style>\n",
       "<table border=\"1\" class=\"dataframe\">\n",
       "  <thead>\n",
       "    <tr style=\"text-align: right;\">\n",
       "      <th></th>\n",
       "      <th>user_type</th>\n",
       "      <th>travel_time</th>\n",
       "      <th>idunplug_station</th>\n",
       "      <th>ageRange</th>\n",
       "      <th>idplug_station</th>\n",
       "      <th>district_origin</th>\n",
       "      <th>neighbourhood_origin</th>\n",
       "      <th>origin</th>\n",
       "      <th>district_dest</th>\n",
       "      <th>neighbourhood_dest</th>\n",
       "      <th>destination</th>\n",
       "      <th>date</th>\n",
       "      <th>hour_time</th>\n",
       "    </tr>\n",
       "  </thead>\n",
       "  <tbody>\n",
       "    <tr>\n",
       "      <th>0</th>\n",
       "      <td>1</td>\n",
       "      <td>210</td>\n",
       "      <td>87</td>\n",
       "      <td>2</td>\n",
       "      <td>78</td>\n",
       "      <td>03  RETIRO</td>\n",
       "      <td>03-02 ADELFAS</td>\n",
       "      <td>DOCTOR ESQUERDO, CALLE, DEL</td>\n",
       "      <td>03  RETIRO</td>\n",
       "      <td>03-06 NIÑO JESÚS</td>\n",
       "      <td>JUAN DE URBIETA, CALLE, DE</td>\n",
       "      <td>2020-01-01</td>\n",
       "      <td>00:00:00</td>\n",
       "    </tr>\n",
       "    <tr>\n",
       "      <th>1</th>\n",
       "      <td>1</td>\n",
       "      <td>330</td>\n",
       "      <td>87</td>\n",
       "      <td>0</td>\n",
       "      <td>78</td>\n",
       "      <td>03  RETIRO</td>\n",
       "      <td>03-02 ADELFAS</td>\n",
       "      <td>DOCTOR ESQUERDO, CALLE, DEL</td>\n",
       "      <td>03  RETIRO</td>\n",
       "      <td>03-06 NIÑO JESÚS</td>\n",
       "      <td>JUAN DE URBIETA, CALLE, DE</td>\n",
       "      <td>2020-01-02</td>\n",
       "      <td>09:00:00</td>\n",
       "    </tr>\n",
       "    <tr>\n",
       "      <th>2</th>\n",
       "      <td>1</td>\n",
       "      <td>281</td>\n",
       "      <td>87</td>\n",
       "      <td>4</td>\n",
       "      <td>78</td>\n",
       "      <td>03  RETIRO</td>\n",
       "      <td>03-02 ADELFAS</td>\n",
       "      <td>DOCTOR ESQUERDO, CALLE, DEL</td>\n",
       "      <td>03  RETIRO</td>\n",
       "      <td>03-06 NIÑO JESÚS</td>\n",
       "      <td>JUAN DE URBIETA, CALLE, DE</td>\n",
       "      <td>2020-01-03</td>\n",
       "      <td>09:00:00</td>\n",
       "    </tr>\n",
       "    <tr>\n",
       "      <th>3</th>\n",
       "      <td>1</td>\n",
       "      <td>270</td>\n",
       "      <td>87</td>\n",
       "      <td>0</td>\n",
       "      <td>78</td>\n",
       "      <td>03  RETIRO</td>\n",
       "      <td>03-02 ADELFAS</td>\n",
       "      <td>DOCTOR ESQUERDO, CALLE, DEL</td>\n",
       "      <td>03  RETIRO</td>\n",
       "      <td>03-06 NIÑO JESÚS</td>\n",
       "      <td>JUAN DE URBIETA, CALLE, DE</td>\n",
       "      <td>2020-01-03</td>\n",
       "      <td>13:00:00</td>\n",
       "    </tr>\n",
       "    <tr>\n",
       "      <th>4</th>\n",
       "      <td>1</td>\n",
       "      <td>245</td>\n",
       "      <td>87</td>\n",
       "      <td>0</td>\n",
       "      <td>78</td>\n",
       "      <td>03  RETIRO</td>\n",
       "      <td>03-02 ADELFAS</td>\n",
       "      <td>DOCTOR ESQUERDO, CALLE, DEL</td>\n",
       "      <td>03  RETIRO</td>\n",
       "      <td>03-06 NIÑO JESÚS</td>\n",
       "      <td>JUAN DE URBIETA, CALLE, DE</td>\n",
       "      <td>2020-01-04</td>\n",
       "      <td>08:00:00</td>\n",
       "    </tr>\n",
       "  </tbody>\n",
       "</table>\n",
       "</div>"
      ],
      "text/plain": [
       "   user_type  travel_time  idunplug_station  ageRange  idplug_station  \\\n",
       "0          1          210                87         2              78   \n",
       "1          1          330                87         0              78   \n",
       "2          1          281                87         4              78   \n",
       "3          1          270                87         0              78   \n",
       "4          1          245                87         0              78   \n",
       "\n",
       "  district_origin neighbourhood_origin                       origin  \\\n",
       "0      03  RETIRO        03-02 ADELFAS  DOCTOR ESQUERDO, CALLE, DEL   \n",
       "1      03  RETIRO        03-02 ADELFAS  DOCTOR ESQUERDO, CALLE, DEL   \n",
       "2      03  RETIRO        03-02 ADELFAS  DOCTOR ESQUERDO, CALLE, DEL   \n",
       "3      03  RETIRO        03-02 ADELFAS  DOCTOR ESQUERDO, CALLE, DEL   \n",
       "4      03  RETIRO        03-02 ADELFAS  DOCTOR ESQUERDO, CALLE, DEL   \n",
       "\n",
       "  district_dest neighbourhood_dest                 destination        date  \\\n",
       "0    03  RETIRO   03-06 NIÑO JESÚS  JUAN DE URBIETA, CALLE, DE  2020-01-01   \n",
       "1    03  RETIRO   03-06 NIÑO JESÚS  JUAN DE URBIETA, CALLE, DE  2020-01-02   \n",
       "2    03  RETIRO   03-06 NIÑO JESÚS  JUAN DE URBIETA, CALLE, DE  2020-01-03   \n",
       "3    03  RETIRO   03-06 NIÑO JESÚS  JUAN DE URBIETA, CALLE, DE  2020-01-03   \n",
       "4    03  RETIRO   03-06 NIÑO JESÚS  JUAN DE URBIETA, CALLE, DE  2020-01-04   \n",
       "\n",
       "  hour_time  \n",
       "0  00:00:00  \n",
       "1  09:00:00  \n",
       "2  09:00:00  \n",
       "3  13:00:00  \n",
       "4  08:00:00  "
      ]
     },
     "execution_count": 17,
     "metadata": {},
     "output_type": "execute_result"
    }
   ],
   "source": [
    "bicimad.head()"
   ]
  },
  {
   "cell_type": "code",
   "execution_count": 18,
   "metadata": {},
   "outputs": [
    {
     "data": {
      "text/html": [
       "<div>\n",
       "<style scoped>\n",
       "    .dataframe tbody tr th:only-of-type {\n",
       "        vertical-align: middle;\n",
       "    }\n",
       "\n",
       "    .dataframe tbody tr th {\n",
       "        vertical-align: top;\n",
       "    }\n",
       "\n",
       "    .dataframe thead th {\n",
       "        text-align: right;\n",
       "    }\n",
       "</style>\n",
       "<table border=\"1\" class=\"dataframe\">\n",
       "  <thead>\n",
       "    <tr style=\"text-align: right;\">\n",
       "      <th></th>\n",
       "      <th>user_type</th>\n",
       "      <th>travel_time</th>\n",
       "      <th>idunplug_station</th>\n",
       "      <th>ageRange</th>\n",
       "      <th>idplug_station</th>\n",
       "      <th>district_origin</th>\n",
       "      <th>neighbourhood_origin</th>\n",
       "      <th>origin</th>\n",
       "      <th>district_dest</th>\n",
       "      <th>neighbourhood_dest</th>\n",
       "      <th>destination</th>\n",
       "      <th>date</th>\n",
       "      <th>hour_time</th>\n",
       "    </tr>\n",
       "  </thead>\n",
       "  <tbody>\n",
       "    <tr>\n",
       "      <th>2056519</th>\n",
       "      <td>1</td>\n",
       "      <td>1464</td>\n",
       "      <td>32</td>\n",
       "      <td>0</td>\n",
       "      <td>109</td>\n",
       "      <td>01  CENTRO</td>\n",
       "      <td>01-03 CORTES</td>\n",
       "      <td>ALCALA, CALLE, DE</td>\n",
       "      <td>04  SALAMANCA</td>\n",
       "      <td>04-01 RECOLETOS</td>\n",
       "      <td>SERRANO, CALLE, DE</td>\n",
       "      <td>2020-10-03</td>\n",
       "      <td>20:00:00</td>\n",
       "    </tr>\n",
       "    <tr>\n",
       "      <th>2056520</th>\n",
       "      <td>1</td>\n",
       "      <td>377</td>\n",
       "      <td>32</td>\n",
       "      <td>3</td>\n",
       "      <td>109</td>\n",
       "      <td>01  CENTRO</td>\n",
       "      <td>01-03 CORTES</td>\n",
       "      <td>ALCALA, CALLE, DE</td>\n",
       "      <td>04  SALAMANCA</td>\n",
       "      <td>04-01 RECOLETOS</td>\n",
       "      <td>SERRANO, CALLE, DE</td>\n",
       "      <td>2020-10-15</td>\n",
       "      <td>22:00:00</td>\n",
       "    </tr>\n",
       "    <tr>\n",
       "      <th>2056521</th>\n",
       "      <td>1</td>\n",
       "      <td>489</td>\n",
       "      <td>32</td>\n",
       "      <td>0</td>\n",
       "      <td>109</td>\n",
       "      <td>01  CENTRO</td>\n",
       "      <td>01-03 CORTES</td>\n",
       "      <td>ALCALA, CALLE, DE</td>\n",
       "      <td>04  SALAMANCA</td>\n",
       "      <td>04-01 RECOLETOS</td>\n",
       "      <td>SERRANO, CALLE, DE</td>\n",
       "      <td>2020-10-19</td>\n",
       "      <td>06:00:00</td>\n",
       "    </tr>\n",
       "    <tr>\n",
       "      <th>2056522</th>\n",
       "      <td>1</td>\n",
       "      <td>396</td>\n",
       "      <td>32</td>\n",
       "      <td>0</td>\n",
       "      <td>109</td>\n",
       "      <td>01  CENTRO</td>\n",
       "      <td>01-03 CORTES</td>\n",
       "      <td>ALCALA, CALLE, DE</td>\n",
       "      <td>04  SALAMANCA</td>\n",
       "      <td>04-01 RECOLETOS</td>\n",
       "      <td>SERRANO, CALLE, DE</td>\n",
       "      <td>2020-10-19</td>\n",
       "      <td>07:00:00</td>\n",
       "    </tr>\n",
       "    <tr>\n",
       "      <th>2056523</th>\n",
       "      <td>1</td>\n",
       "      <td>359</td>\n",
       "      <td>32</td>\n",
       "      <td>0</td>\n",
       "      <td>109</td>\n",
       "      <td>01  CENTRO</td>\n",
       "      <td>01-03 CORTES</td>\n",
       "      <td>ALCALA, CALLE, DE</td>\n",
       "      <td>04  SALAMANCA</td>\n",
       "      <td>04-01 RECOLETOS</td>\n",
       "      <td>SERRANO, CALLE, DE</td>\n",
       "      <td>2020-10-23</td>\n",
       "      <td>07:00:00</td>\n",
       "    </tr>\n",
       "  </tbody>\n",
       "</table>\n",
       "</div>"
      ],
      "text/plain": [
       "         user_type  travel_time  idunplug_station  ageRange  idplug_station  \\\n",
       "2056519          1         1464                32         0             109   \n",
       "2056520          1          377                32         3             109   \n",
       "2056521          1          489                32         0             109   \n",
       "2056522          1          396                32         0             109   \n",
       "2056523          1          359                32         0             109   \n",
       "\n",
       "        district_origin neighbourhood_origin             origin  \\\n",
       "2056519      01  CENTRO         01-03 CORTES  ALCALA, CALLE, DE   \n",
       "2056520      01  CENTRO         01-03 CORTES  ALCALA, CALLE, DE   \n",
       "2056521      01  CENTRO         01-03 CORTES  ALCALA, CALLE, DE   \n",
       "2056522      01  CENTRO         01-03 CORTES  ALCALA, CALLE, DE   \n",
       "2056523      01  CENTRO         01-03 CORTES  ALCALA, CALLE, DE   \n",
       "\n",
       "         district_dest neighbourhood_dest         destination        date  \\\n",
       "2056519  04  SALAMANCA    04-01 RECOLETOS  SERRANO, CALLE, DE  2020-10-03   \n",
       "2056520  04  SALAMANCA    04-01 RECOLETOS  SERRANO, CALLE, DE  2020-10-15   \n",
       "2056521  04  SALAMANCA    04-01 RECOLETOS  SERRANO, CALLE, DE  2020-10-19   \n",
       "2056522  04  SALAMANCA    04-01 RECOLETOS  SERRANO, CALLE, DE  2020-10-19   \n",
       "2056523  04  SALAMANCA    04-01 RECOLETOS  SERRANO, CALLE, DE  2020-10-23   \n",
       "\n",
       "        hour_time  \n",
       "2056519  20:00:00  \n",
       "2056520  22:00:00  \n",
       "2056521  06:00:00  \n",
       "2056522  07:00:00  \n",
       "2056523  07:00:00  "
      ]
     },
     "execution_count": 18,
     "metadata": {},
     "output_type": "execute_result"
    }
   ],
   "source": [
    " bicimad.tail()"
   ]
  },
  {
   "cell_type": "markdown",
   "metadata": {},
   "source": [
    "Thanks to \"info\" function we can get valuable info. We can see the total number of observations,variables, and which is the format of the columns we are going to find afterwards."
   ]
  },
  {
   "cell_type": "code",
   "execution_count": 19,
   "metadata": {},
   "outputs": [
    {
     "name": "stdout",
     "output_type": "stream",
     "text": [
      "<class 'pandas.core.frame.DataFrame'>\n",
      "Int64Index: 2056524 entries, 0 to 2056523\n",
      "Data columns (total 13 columns):\n",
      " #   Column                Dtype \n",
      "---  ------                ----- \n",
      " 0   user_type             int64 \n",
      " 1   travel_time           int64 \n",
      " 2   idunplug_station      int64 \n",
      " 3   ageRange              int64 \n",
      " 4   idplug_station        int64 \n",
      " 5   district_origin       object\n",
      " 6   neighbourhood_origin  object\n",
      " 7   origin                object\n",
      " 8   district_dest         object\n",
      " 9   neighbourhood_dest    object\n",
      " 10  destination           object\n",
      " 11  date                  object\n",
      " 12  hour_time             object\n",
      "dtypes: int64(5), object(8)\n",
      "memory usage: 219.7+ MB\n"
     ]
    }
   ],
   "source": [
    "bicimad.info()"
   ]
  },
  {
   "cell_type": "markdown",
   "metadata": {},
   "source": [
    "### Elimination of null values and NA\n",
    "We are going to study the percentage of null of the resulting dataset. But first, we eliminate possible duplicates."
   ]
  },
  {
   "cell_type": "code",
   "execution_count": 20,
   "metadata": {},
   "outputs": [],
   "source": [
    "bicimad = bicimad.drop_duplicates()"
   ]
  },
  {
   "cell_type": "code",
   "execution_count": 21,
   "metadata": {},
   "outputs": [
    {
     "data": {
      "text/plain": [
       "hour_time               0.0\n",
       "date                    0.0\n",
       "destination             0.0\n",
       "neighbourhood_dest      0.0\n",
       "district_dest           0.0\n",
       "origin                  0.0\n",
       "neighbourhood_origin    0.0\n",
       "district_origin         0.0\n",
       "idplug_station          0.0\n",
       "ageRange                0.0\n",
       "idunplug_station        0.0\n",
       "travel_time             0.0\n",
       "user_type               0.0\n",
       "dtype: float64"
      ]
     },
     "execution_count": 21,
     "metadata": {},
     "output_type": "execute_result"
    }
   ],
   "source": [
    "percentage_NaN = bicimad.apply(lambda x:sum(x.isna()/len(bicimad)))\n",
    "percentage_NaN.sort_values(ascending = False).head(60)"
   ]
  },
  {
   "cell_type": "code",
   "execution_count": 22,
   "metadata": {},
   "outputs": [
    {
     "data": {
      "text/plain": [
       "user_type               0\n",
       "travel_time             0\n",
       "idunplug_station        0\n",
       "ageRange                0\n",
       "idplug_station          0\n",
       "district_origin         0\n",
       "neighbourhood_origin    0\n",
       "origin                  0\n",
       "district_dest           0\n",
       "neighbourhood_dest      0\n",
       "destination             0\n",
       "date                    0\n",
       "hour_time               0\n",
       "dtype: int64"
      ]
     },
     "execution_count": 22,
     "metadata": {},
     "output_type": "execute_result"
    }
   ],
   "source": [
    "bicimad.isna().sum()"
   ]
  },
  {
   "cell_type": "markdown",
   "metadata": {},
   "source": [
    "The dataset contains no NA or null values, so no further processing is necessary."
   ]
  },
  {
   "cell_type": "markdown",
   "metadata": {},
   "source": [
    "### Representation of categorical variables\n",
    "In order to carry out a better study, first of all some of the categorical variables are going to be represented graphically, in order to obtain an idea of how they are distributed and behave.\n",
    "\n",
    "We will study the frequency of passage through each station. We will see from which stations the highest number of bike trips arrive and depart."
   ]
  },
  {
   "cell_type": "code",
   "execution_count": 23,
   "metadata": {},
   "outputs": [
    {
     "data": {
      "text/plain": [
       "CASTELLANA, PASEO, DE LA               61024\n",
       "MENENDEZ PELAYO, AVENIDA, DE           59782\n",
       "SERRANO, CALLE, DE                     42400\n",
       "SANTA ENGRACIA, CALLE, DE              41470\n",
       "ALCALA, CALLE, DE                      38285\n",
       "SAN BERNARDO, CALLE, DE                36505\n",
       "CIUDAD DE BARCELONA, AVENIDA, DE LA    35843\n",
       "SANTA ISABEL, CALLE, DE                34698\n",
       "GOYA, CALLE, DE                        33790\n",
       "AYALA, CALLE, DE                       33591\n",
       "Name: origin, dtype: int64"
      ]
     },
     "execution_count": 23,
     "metadata": {},
     "output_type": "execute_result"
    }
   ],
   "source": [
    "bicimad['origin'].value_counts().head(10)"
   ]
  },
  {
   "cell_type": "code",
   "execution_count": 24,
   "metadata": {},
   "outputs": [
    {
     "data": {
      "text/plain": [
       "CASTELLANA, PASEO, DE LA               61492\n",
       "MENENDEZ PELAYO, AVENIDA, DE           58939\n",
       "SANTA ENGRACIA, CALLE, DE              42164\n",
       "SERRANO, CALLE, DE                     41838\n",
       "ALCALA, CALLE, DE                      38072\n",
       "SAN BERNARDO, CALLE, DE                36679\n",
       "CIUDAD DE BARCELONA, AVENIDA, DE LA    35241\n",
       "SANTA ISABEL, CALLE, DE                35153\n",
       "ALFONSO XII, CALLE, DE                 34316\n",
       "GOYA, CALLE, DE                        34271\n",
       "Name: destination, dtype: int64"
      ]
     },
     "execution_count": 24,
     "metadata": {},
     "output_type": "execute_result"
    }
   ],
   "source": [
    "bicimad['destination'].value_counts().head(10)"
   ]
  },
  {
   "cell_type": "markdown",
   "metadata": {},
   "source": [
    "Now we see the same data according to the district of Madrid."
   ]
  },
  {
   "cell_type": "code",
   "execution_count": 25,
   "metadata": {},
   "outputs": [
    {
     "data": {
      "text/plain": [
       "01  CENTRO             753080\n",
       "04  SALAMANCA          272238\n",
       "07  CHAMBERÍ           260604\n",
       "03  RETIRO             257710\n",
       "02  ARGANZUELA         169086\n",
       "05  CHAMARTÍN          144657\n",
       "06  TETUÁN              92165\n",
       "09  MONCLOA-ARAVACA     90169\n",
       "Name: district_origin, dtype: int64"
      ]
     },
     "execution_count": 25,
     "metadata": {},
     "output_type": "execute_result"
    }
   ],
   "source": [
    "bicimad['district_origin'].value_counts()"
   ]
  },
  {
   "cell_type": "code",
   "execution_count": 26,
   "metadata": {},
   "outputs": [
    {
     "data": {
      "text/plain": [
       "01  CENTRO             753435\n",
       "04  SALAMANCA          272405\n",
       "07  CHAMBERÍ           259781\n",
       "03  RETIRO             259238\n",
       "02  ARGANZUELA         169162\n",
       "05  CHAMARTÍN          143161\n",
       "06  TETUÁN              92352\n",
       "09  MONCLOA-ARAVACA     90175\n",
       "Name: district_dest, dtype: int64"
      ]
     },
     "execution_count": 26,
     "metadata": {},
     "output_type": "execute_result"
    }
   ],
   "source": [
    "bicimad['district_dest'].value_counts()"
   ]
  },
  {
   "cell_type": "markdown",
   "metadata": {},
   "source": [
    "Finally, the number of journeys serving the capital's neighborhood."
   ]
  },
  {
   "cell_type": "code",
   "execution_count": 27,
   "metadata": {},
   "outputs": [
    {
     "data": {
      "text/plain": [
       "01-02 EMBAJADORES       190987\n",
       "01-04 JUSTICIA          140730\n",
       "01-05 UNIVERSIDAD       139830\n",
       "01-01 PALACIO           135561\n",
       "04-01 RECOLETOS         126657\n",
       "07-05 RÍOS ROSAS         85596\n",
       "01-03 CORTES             83716\n",
       "05-01 EL VISO            82040\n",
       "03-05 JERÓNIMOS          73781\n",
       "06-02 CUATRO CAMINOS     72133\n",
       "Name: neighbourhood_origin, dtype: int64"
      ]
     },
     "execution_count": 27,
     "metadata": {},
     "output_type": "execute_result"
    }
   ],
   "source": [
    "bicimad['neighbourhood_origin'].value_counts().head(10)"
   ]
  },
  {
   "cell_type": "code",
   "execution_count": 28,
   "metadata": {},
   "outputs": [
    {
     "data": {
      "text/plain": [
       "01-02 EMBAJADORES       189508\n",
       "01-05 UNIVERSIDAD       141192\n",
       "01-04 JUSTICIA          141189\n",
       "01-01 PALACIO           134790\n",
       "04-01 RECOLETOS         126028\n",
       "07-05 RÍOS ROSAS         85367\n",
       "01-03 CORTES             84462\n",
       "05-01 EL VISO            79595\n",
       "03-05 JERÓNIMOS          74729\n",
       "06-02 CUATRO CAMINOS     71955\n",
       "Name: neighbourhood_dest, dtype: int64"
      ]
     },
     "execution_count": 28,
     "metadata": {},
     "output_type": "execute_result"
    }
   ],
   "source": [
    "bicimad['neighbourhood_dest'].value_counts().head(10)"
   ]
  },
  {
   "cell_type": "markdown",
   "metadata": {},
   "source": [
    "In all cases and despite small deviations, the most popular locations are usually for both arrival and departure of bicycles. Next, we look at the days when the most and least trips have been made."
   ]
  },
  {
   "cell_type": "markdown",
   "metadata": {},
   "source": [
    "Now, we look at the percentage of trips that begin and end in the same place. This will help us to analyze if Bicimad users usually take the bike for short trips and returning to the same place, or if on the contrary they usually make longer journeys by changing areas."
   ]
  },
  {
   "cell_type": "code",
   "execution_count": 39,
   "metadata": {},
   "outputs": [
    {
     "data": {
      "text/plain": [
       "6.307125183053072"
      ]
     },
     "execution_count": 39,
     "metadata": {},
     "output_type": "execute_result"
    }
   ],
   "source": [
    "(sum(bicimad['origin'] == bicimad['destination'])/len(bicimad))*100"
   ]
  },
  {
   "cell_type": "markdown",
   "metadata": {},
   "source": [
    "In the case of the streets, only 6% of the users start and finish the trip on the street. We associate this with the fact that many may take it for trips such as going to work or to a leisure meeting, instead of short journeys that start and end in the same place."
   ]
  },
  {
   "cell_type": "code",
   "execution_count": 40,
   "metadata": {},
   "outputs": [
    {
     "data": {
      "text/plain": [
       "10.707262653643241"
      ]
     },
     "execution_count": 40,
     "metadata": {},
     "output_type": "execute_result"
    }
   ],
   "source": [
    "(sum(bicimad['neighbourhood_origin'] == bicimad['neighbourhood_dest'])/len(bicimad))*100"
   ]
  },
  {
   "cell_type": "code",
   "execution_count": 41,
   "metadata": {},
   "outputs": [
    {
     "data": {
      "text/plain": [
       "28.76885869503934"
      ]
     },
     "execution_count": 41,
     "metadata": {},
     "output_type": "execute_result"
    }
   ],
   "source": [
    "(sum(bicimad['district_origin'] == bicimad['district_dest'])/len(bicimad))*100"
   ]
  },
  {
   "cell_type": "markdown",
   "metadata": {},
   "source": [
    "In the case of the neighborhoods, the percentage increases a little. But when it comes to districts, the figure varies more. About 30% of trips start and end in the same district, a statistic that explains that a certain percentage of users use the bicycle for long trips, but not so much as to change districts within the capital."
   ]
  },
  {
   "cell_type": "code",
   "execution_count": 29,
   "metadata": {},
   "outputs": [
    {
     "data": {
      "text/plain": [
       "2020-09-10    10391\n",
       "2020-09-16    10333\n",
       "2020-09-09    10329\n",
       "2020-07-02    10307\n",
       "2020-09-11    10165\n",
       "2020-07-01    10141\n",
       "2020-09-15    10069\n",
       "2020-10-08     9939\n",
       "2020-10-09     9841\n",
       "2020-07-08     9831\n",
       "Name: date, dtype: int64"
      ]
     },
     "execution_count": 29,
     "metadata": {},
     "output_type": "execute_result"
    }
   ],
   "source": [
    "bicimad['date'].value_counts().head(10)"
   ]
  },
  {
   "cell_type": "code",
   "execution_count": 30,
   "metadata": {},
   "outputs": [
    {
     "data": {
      "text/plain": [
       "2020-05-01    537\n",
       "2020-04-23    515\n",
       "2020-04-25    391\n",
       "2020-04-22    363\n",
       "2020-04-26    352\n",
       "2020-03-16    180\n",
       "2020-03-17    108\n",
       "2020-04-20     52\n",
       "2020-04-21     18\n",
       "2020-04-19      9\n",
       "Name: date, dtype: int64"
      ]
     },
     "execution_count": 30,
     "metadata": {},
     "output_type": "execute_result"
    }
   ],
   "source": [
    "bicimad['date'].value_counts().tail(10)"
   ]
  },
  {
   "cell_type": "markdown",
   "metadata": {},
   "source": [
    "As you can see, the three days with the highest number of trips belong to the month of September, which was also the month with the highest number of trips. Next, we look at the hours with the most traffic."
   ]
  },
  {
   "cell_type": "code",
   "execution_count": 31,
   "metadata": {},
   "outputs": [
    {
     "data": {
      "image/png": "[encoded data removed]",
      "text/plain": [
       "<Figure size 432x288 with 1 Axes>"
      ]
     },
     "metadata": {
      "needs_background": "light"
     },
     "output_type": "display_data"
    }
   ],
   "source": [
    "(bicimad['hour_time'].value_counts()).plot()\n",
    "(bicimad['hour_time'].value_counts()).plot(kind = \"bar\", color = \"green\")\n",
    "\n",
    "plt.title('Graph: Number of users from each type')\n",
    "plt.xlabel('Number of users')\n",
    "plt.ylabel('Type of user');"
   ]
  },
  {
   "cell_type": "markdown",
   "metadata": {},
   "source": [
    "The first hours of the afternoon are when the greatest number of bicycles are used by users."
   ]
  },
  {
   "cell_type": "code",
   "execution_count": 32,
   "metadata": {},
   "outputs": [
    {
     "data": {
      "image/png": "[encoded data removed]",
      "text/plain": [
       "<Figure size 432x288 with 1 Axes>"
      ]
     },
     "metadata": {
      "needs_background": "light"
     },
     "output_type": "display_data"
    }
   ],
   "source": [
    "(bicimad['ageRange'].value_counts()).plot(kind = \"bar\", color = \"purple\")\n",
    "\n",
    "plt.title('Graph: Number of users per age group')\n",
    "plt.xlabel('Age group')\n",
    "plt.ylabel('Number of users');"
   ]
  },
  {
   "cell_type": "markdown",
   "metadata": {},
   "source": [
    "With regard to ages, it should be stressed that data collection does not allow us to draw any major conclusions. This is because the value 0 implies that the age range could not be properly collected. Outside this value, groups 4 and 5 are the ones that make the most use of bicycles. Respectively, these groups range from 27-40 to 41-60 years old."
   ]
  },
  {
   "cell_type": "markdown",
   "metadata": {},
   "source": [
    "### Representation of numerical variables"
   ]
  },
  {
   "cell_type": "markdown",
   "metadata": {},
   "source": [
    "We observe how the variable 'travel_time' is distributed, which is the only continuous numerical variable existing in the dataset."
   ]
  },
  {
   "cell_type": "code",
   "execution_count": 33,
   "metadata": {},
   "outputs": [
    {
     "data": {
      "text/plain": [
       "count    2.039709e+06\n",
       "mean     1.615969e+03\n",
       "std      4.572259e+04\n",
       "min     -3.946600e+04\n",
       "25%      4.630000e+02\n",
       "50%      6.970000e+02\n",
       "75%      1.046000e+03\n",
       "max      9.078479e+06\n",
       "Name: travel_time, dtype: float64"
      ]
     },
     "execution_count": 33,
     "metadata": {},
     "output_type": "execute_result"
    }
   ],
   "source": [
    "bicimad['travel_time'].describe()"
   ]
  },
  {
   "cell_type": "markdown",
   "metadata": {},
   "source": [
    "Below, you can see a relationship between travel time and the age group of the users of this service."
   ]
  },
  {
   "cell_type": "code",
   "execution_count": 34,
   "metadata": {},
   "outputs": [
    {
     "data": {
      "image/png": "[encoded data removed]",
      "text/plain": [
       "<Figure size 432x288 with 1 Axes>"
      ]
     },
     "metadata": {
      "needs_background": "light"
     },
     "output_type": "display_data"
    }
   ],
   "source": [
    "sns.stripplot(x=\"ageRange\", y=\"travel_time\", data=bicimad);"
   ]
  },
  {
   "cell_type": "code",
   "execution_count": 35,
   "metadata": {},
   "outputs": [
    {
     "data": {
      "image/png": "[encoded data removed]",
      "text/plain": [
       "<Figure size 720x360 with 1 Axes>"
      ]
     },
     "metadata": {
      "needs_background": "light"
     },
     "output_type": "display_data"
    }
   ],
   "source": [
    "f, ax = plt.subplots(figsize=(10, 5))\n",
    "sns.violinplot(data=bicimad['travel_time'], palette=\"Set2\", bw=.10, cut=1, linewidth=2);"
   ]
  },
  {
   "cell_type": "markdown",
   "metadata": {},
   "source": [
    "According to the violin chart, journey times are usually low, although there is a certain accumulation of journeys on somewhat longer trips."
   ]
  },
  {
   "cell_type": "markdown",
   "metadata": {},
   "source": [
    "## Dataset Exportation"
   ]
  },
  {
   "cell_type": "markdown",
   "metadata": {},
   "source": [
    "After the EDA and the data cleaning, we exported the dataset to continue working with it from other aspects."
   ]
  },
  {
   "cell_type": "code",
   "execution_count": 36,
   "metadata": {},
   "outputs": [],
   "source": [
    "bicimad.to_csv(r'../data/bicimad.csv')"
   ]
  }
 ],
 "metadata": {
  "kernelspec": {
   "display_name": "eda_env",
   "language": "python",
   "name": "eda_env"
  },
  "language_info": {
   "codemirror_mode": {
    "name": "ipython",
    "version": 3
   },
   "file_extension": ".py",
   "mimetype": "text/x-python",
   "name": "python",
   "nbconvert_exporter": "python",
   "pygments_lexer": "ipython3",
   "version": "3.8.5"
  },
  "toc": {
   "base_numbering": 1,
   "nav_menu": {},
   "number_sections": false,
   "sideBar": true,
   "skip_h1_title": false,
   "title_cell": "Table of Contents",
   "title_sidebar": "Contents",
   "toc_cell": false,
   "toc_position": {},
   "toc_section_display": true,
   "toc_window_display": true
  }
 },
 "nbformat": 4,
 "nbformat_minor": 4
}
